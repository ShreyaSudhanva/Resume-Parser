{
 "cells": [
  {
   "cell_type": "code",
   "execution_count": 1,
   "metadata": {},
   "outputs": [
    {
     "name": "stderr",
     "output_type": "stream",
     "text": [
      "[nltk_data] Downloading package punkt to /home/samanvitha/nltk_data...\n",
      "[nltk_data]   Package punkt is already up-to-date!\n"
     ]
    },
    {
     "data": {
      "text/plain": [
       "True"
      ]
     },
     "execution_count": 1,
     "metadata": {},
     "output_type": "execute_result"
    }
   ],
   "source": [
    "#Import Libraries\n",
    "\n",
    "import io\n",
    "from sklearn.feature_extraction.text import CountVectorizer\n",
    "from sklearn.metrics.pairwise import cosine_similarity\n",
    "import numpy as np\n",
    "import pandas as pd\n",
    "import os\n",
    "import csv\n",
    "import re\n",
    "from pdfminer import high_level\n",
    "import nltk\n",
    "from nltk.tokenize import word_tokenize\n",
    "nltk. download(\"punkt\")"
   ]
  },
  {
   "cell_type": "code",
   "execution_count": 15,
   "metadata": {},
   "outputs": [
    {
     "name": "stdout",
     "output_type": "stream",
     "text": [
      "5\n"
     ]
    }
   ],
   "source": [
    "### Read all the job descriptions and Store in a list \n",
    "d1 = 'Job_description'\n",
    "job_des = []\n",
    "def select_files_in_folder(d, ext):\n",
    "    for file in os.listdir(d):\n",
    "        if file.endswith('.%s' % ext):\n",
    "            yield os.path.join(d, file)\n",
    "\n",
    "for files in select_files_in_folder(d1, 'pdf'):\n",
    "    pages = [0,1,2]\n",
    "    job_text = high_level.extract_text(files, \"\", pages)\n",
    "    job_des.append(job_text)\n",
    "print(len(job_des))"
   ]
  },
  {
   "cell_type": "code",
   "execution_count": 16,
   "metadata": {},
   "outputs": [],
   "source": [
    "def read_resume(extracted_text,text2):\n",
    "    text = extracted_text\n",
    "    list1 = [text,text2]\n",
    "    cv = CountVectorizer()\n",
    "    count_matrix = cv.fit_transform(list1)\n",
    "    #print(\"\\nSimilarity scores\")\n",
    "    #print(cosine_similarity(count_matrix))\n",
    "    matchPercentage = cosine_similarity(count_matrix)[0][1] * 100\n",
    "    matchPercentage = round(matchPercentage,2) #round it to 2 decimal places\n",
    "    #print(\"The resume matches about \"+str(matchPercentage)+ \"% of job description\")\n",
    "    return matchPercentage"
   ]
  },
  {
   "cell_type": "code",
   "execution_count": 17,
   "metadata": {},
   "outputs": [],
   "source": [
    "cols = [\"name\",\"job-1\",\"job-2\",\"job-3\",\"job-4\",\"job-5\"]\n",
    "rows = []\n",
    "percentages = [0,0,0,0,0]\n",
    "d = 'Resumes'\n",
    "def select_files_in_folder(d, ext):\n",
    "    for file in os.listdir(d):\n",
    "        if file.endswith('.%s' % ext):\n",
    "            yield os.path.join(d, file)\n",
    "\n",
    "for file in select_files_in_folder(d, 'pdf'):\n",
    "    pages = [0,1] # just the first page\n",
    "    extracted_text = high_level.extract_text(file, \"\", pages)\n",
    "    #name = extract_names(extracted_text)\n",
    "    name = file[8:(len(file))-4]\n",
    "    for i in range(0,5):\n",
    "        percentages[i] = read_resume(extracted_text,job_des[i])\n",
    "    rows.append({'name': name,        \n",
    "                'job-1':percentages[0],\n",
    "                'job-2':percentages[1],\n",
    "                 'job-3':percentages[2],\n",
    "                 'job-4':percentages[3],\n",
    "                 'job-5':percentages[4],\n",
    "                })\n",
    "out_df = pd.DataFrame(rows, columns = cols)"
   ]
  },
  {
   "cell_type": "code",
   "execution_count": 18,
   "metadata": {},
   "outputs": [
    {
     "name": "stdout",
     "output_type": "stream",
     "text": [
      "                                                 name  job-1  job-2  job-3  \\\n",
      "0                                 Abhijay Kumar Singh   7.78  11.62  17.68   \n",
      "1                Apoorva_R_Resume - Apoorva Bharadwaj  25.38  40.69  56.61   \n",
      "2                      HEMANTH_Resume - Hemanth Kumar  24.26  29.72  49.61   \n",
      "3                                           Koushik J  24.57  32.66  49.90   \n",
      "4                                        Sahana Gowda  27.59  39.98  62.74   \n",
      "5           Amogha_Subramanya - Amogha Subramanya D A  25.93  34.43  56.86   \n",
      "6                              newresume - Hiba Iqbal  22.09  29.82  42.66   \n",
      "7                                        Akshay Anand  27.16  38.55  52.24   \n",
      "8   Divya_Madhav_Kamath_Resume_April42018 - Divya ...  22.90  28.10  44.97   \n",
      "9                                          Nandan K R  20.91  31.44  46.95   \n",
      "10                 Anoop_Bhat_N_Resume - Anoop bhat n  29.39  34.98  54.17   \n",
      "11                                    Madgula Mahathi  27.04  39.92  56.14   \n",
      "12                                      Sumangala Rao  24.66  31.54  52.15   \n",
      "13                                    Manasa Kanathur  27.45  37.66  54.54   \n",
      "14                               SRM_ML - Sourabh R M  33.26  44.71  63.31   \n",
      "15                                       Sushil Kumar  21.99  33.38  49.64   \n",
      "16                       Resume_july - Rakesh gourani  28.43  42.04  62.21   \n",
      "17                         praveen-resume - Praveen G  21.36  29.44  47.26   \n",
      "18                                            Medha K  21.57  30.69  49.49   \n",
      "19                                 Harsha - Harsha Bm  20.30  31.40  47.71   \n",
      "20                                           Ahalya R  25.08  36.95  54.83   \n",
      "21                                    Siddhant Sharma  13.56  20.15  33.60   \n",
      "22                                       Rutwik Nayak  24.77  34.55  55.70   \n",
      "23                           PradeepPai - Pradeep Pai  23.05  33.36  54.78   \n",
      "24                                    Shaheed Nehal A  25.79  36.40  52.31   \n",
      "25                          updatedCV - sandesh hegde  24.91  32.15  50.08   \n",
      "26                                 Kanakam Sai Dimple  23.26  27.38  43.56   \n",
      "27                                           Aarthi T  22.99  30.81  46.27   \n",
      "28                                Arunima Rashmi Giri  19.36  27.81  45.90   \n",
      "29                                       Amogh Mahesh  21.44  28.38  48.68   \n",
      "30              Abhishek_Bisht - Abhishek Singh Bisht  24.21  36.19  49.20   \n",
      "31                                         Vijeth V K  27.79  36.95  53.34   \n",
      "32                           Nikhil Prabhakar Kottary  21.22  30.68  46.82   \n",
      "33                     WD resume - ashwin bhadravathi  23.80  32.15  52.54   \n",
      "34                                    Ashritha Shetty  19.51  25.15  38.80   \n",
      "35                     Resume2.3 - Niveditha Somayaji  22.27  32.59  49.58   \n",
      "36                        Docs_Resume1.3 - Spoorthi M  26.48  37.65  61.55   \n",
      "37                                     AJAYB - AJAY B  24.73  38.62  61.36   \n",
      "38                                         T S Kushal  20.23  39.63  51.36   \n",
      "39                                       Aravinda S V  18.91  29.99  46.52   \n",
      "40                                  K V Sampritha Rao  24.27  36.71  54.86   \n",
      "41                                     Shripriya Bhat  18.52  28.82  41.49   \n",
      "42                                       Samanvitha_S  25.08  40.43  57.62   \n",
      "43                                       Shwet Sharma  21.69  29.92  49.19   \n",
      "44                                   Meghana A Rajeev  24.23  39.58  55.25   \n",
      "45                Yogeesh Rajendra Resume - YOGEESH R  27.93  46.65  65.32   \n",
      "\n",
      "    job-4  job-5  \n",
      "0   17.64  14.02  \n",
      "1   58.34  52.81  \n",
      "2   46.41  41.27  \n",
      "3   49.88  44.35  \n",
      "4   57.25  52.46  \n",
      "5   53.36  53.29  \n",
      "6   40.35  39.10  \n",
      "7   54.83  48.17  \n",
      "8   46.95  42.04  \n",
      "9   48.90  43.05  \n",
      "10  53.52  49.35  \n",
      "11  53.61  51.01  \n",
      "12  51.90  43.92  \n",
      "13  50.47  45.96  \n",
      "14  59.88  56.56  \n",
      "15  47.80  40.17  \n",
      "16  58.42  51.53  \n",
      "17  42.27  41.15  \n",
      "18  46.74  44.61  \n",
      "19  52.09  44.27  \n",
      "20  52.47  46.22  \n",
      "21  34.98  30.34  \n",
      "22  52.44  48.19  \n",
      "23  50.01  43.76  \n",
      "24  49.67  40.01  \n",
      "25  49.16  43.79  \n",
      "26  37.70  39.33  \n",
      "27  47.21  43.63  \n",
      "28  44.13  37.33  \n",
      "29  50.23  47.18  \n",
      "30  46.91  47.61  \n",
      "31  50.44  46.58  \n",
      "32  42.48  40.41  \n",
      "33  47.05  44.52  \n",
      "34  38.40  32.98  \n",
      "35  47.41  42.89  \n",
      "36  53.84  48.94  \n",
      "37  56.35  56.27  \n",
      "38  53.67  47.65  \n",
      "39  44.72  39.52  \n",
      "40  50.37  41.51  \n",
      "41  44.27  41.84  \n",
      "42  56.87  46.72  \n",
      "43  46.00  41.45  \n",
      "44  53.93  48.29  \n",
      "45  63.27  61.34  \n"
     ]
    }
   ],
   "source": [
    "print(out_df)"
   ]
  },
  {
   "cell_type": "code",
   "execution_count": null,
   "metadata": {},
   "outputs": [],
   "source": []
  }
 ],
 "metadata": {
  "kernelspec": {
   "display_name": "Python 3",
   "language": "python",
   "name": "python3"
  },
  "language_info": {
   "codemirror_mode": {
    "name": "ipython",
    "version": 3
   },
   "file_extension": ".py",
   "mimetype": "text/x-python",
   "name": "python",
   "nbconvert_exporter": "python",
   "pygments_lexer": "ipython3",
   "version": "3.6.9"
  }
 },
 "nbformat": 4,
 "nbformat_minor": 2
}
